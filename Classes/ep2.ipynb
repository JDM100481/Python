{
 "cells": [
  {
   "cell_type": "code",
   "execution_count": 24,
   "metadata": {},
   "outputs": [
    {
     "name": "stdout",
     "output_type": "stream",
     "text": [
      "40\n"
     ]
    }
   ],
   "source": [
    "class Pokemon():\n",
    "    \n",
    "    super_effective_mod = 1.5\n",
    "    num_of_pokemon = 0\n",
    "\n",
    "    def __init__(self, name, type, hp, attack):\n",
    "        self.name = name\n",
    "        self.type = type\n",
    "        self.hp = hp\n",
    "        self.attack = attack\n",
    "        Pokemon.num_of_pokemon += 1\n",
    "\n",
    "    def attackLog(self):\n",
    "        return \"{} of type {}\".format(self.attack, self.type)\n",
    "    \n",
    "    def defense(self, attack_type, amount):\n",
    "        if (Pokemon.is_super_effective(self.type, attack_type)):\n",
    "            return self.super_effective(amount)\n",
    "        return amount\n",
    "\n",
    "    def super_effective(self, amount):\n",
    "        return amount * Pokemon.super_effective_mod\n",
    "\n",
    "    @staticmethod\n",
    "    def what():\n",
    "        return \"A pokemon is a monster that has attributes and a species that may be able to evolve. Also they fight - but it's totally fine and not frowned upon :)\"\n",
    "    \n",
    "    @staticmethod\n",
    "    def is_super_effective(poke_type, attack_type):\n",
    "        if poke_type == \"Grass\" and attack_type == \"Fire\":\n",
    "            return True\n",
    "        return False\n",
    "\n",
    "    @classmethod\n",
    "    def pokemon_from_string(cls, string):\n",
    "        name, type, hp, attack = string.split(',')\n",
    "        return cls(name, type, hp, attack)\n",
    "\n",
    "    @classmethod\n",
    "    def set_super_effective(cls, amount):\n",
    "        print(f\"Updating the super effective modifier to: {amount}\")\n",
    "        cls.super_effective_mod = amount\n",
    "\n",
    "bulb = Pokemon(\"Bulbasaur\", \"Grass\", 45, 49)\n",
    "charm = Pokemon(\"Charmander\", \"Fire\", 45, 49)\n",
    "\n",
    "bulbStr = \"Bulbasaur,Grass,45,49\"\n",
    "bulbTwo = Pokemon.pokemon_from_string(bulbStr)\n",
    "\n",
    "print(bulb.defense(\"Water\", 40))"
   ]
  }
 ],
 "metadata": {
  "kernelspec": {
   "display_name": "Python 3",
   "language": "python",
   "name": "python3"
  },
  "language_info": {
   "codemirror_mode": {
    "name": "ipython",
    "version": 3
   },
   "file_extension": ".py",
   "mimetype": "text/x-python",
   "name": "python",
   "nbconvert_exporter": "python",
   "pygments_lexer": "ipython3",
   "version": "3.10.11"
  }
 },
 "nbformat": 4,
 "nbformat_minor": 2
}
