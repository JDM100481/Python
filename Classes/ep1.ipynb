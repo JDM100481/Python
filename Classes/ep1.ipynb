{
 "cells": [
  {
   "cell_type": "code",
   "execution_count": 16,
   "metadata": {},
   "outputs": [
    {
     "name": "stdout",
     "output_type": "stream",
     "text": [
      "73.5\n"
     ]
    }
   ],
   "source": [
    "class Pokemon():\n",
    "    \n",
    "    def __init__(self, name, type, hp, attack):\n",
    "        self.name = name\n",
    "        self.type = type\n",
    "        self.hp = hp\n",
    "        self.attack = attack\n",
    "\n",
    "    def attackLog(self):\n",
    "        return \"{} of type {}\".format(self.attack, self.type)\n",
    "\n",
    "bulb = Pokemon(\"Bulbasaur\", \"Grass\", 45, 49)\n",
    "charm = Pokemon(\"Charmander\", \"Fire\", 45, 49)\n",
    "\n",
    "print(Pokemon.attackLog(charm))\n",
    "print(charm.__dict__)\n",
    "\n"
   ]
  }
 ],
 "metadata": {
  "kernelspec": {
   "display_name": "Python 3",
   "language": "python",
   "name": "python3"
  },
  "language_info": {
   "codemirror_mode": {
    "name": "ipython",
    "version": 3
   },
   "file_extension": ".py",
   "mimetype": "text/x-python",
   "name": "python",
   "nbconvert_exporter": "python",
   "pygments_lexer": "ipython3",
   "version": "3.11.4"
  }
 },
 "nbformat": 4,
 "nbformat_minor": 2
}
