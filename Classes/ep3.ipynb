{
 "cells": [
  {
   "cell_type": "code",
   "execution_count": 29,
   "metadata": {},
   "outputs": [
    {
     "name": "stdout",
     "output_type": "stream",
     "text": [
      "True\n"
     ]
    }
   ],
   "source": [
    "class Person():\n",
    "    def __init__(self, name, age):\n",
    "        self.name = name\n",
    "        self.age = age\n",
    "\n",
    "    def increase_age(self):\n",
    "        self.age += 1\n",
    "\n",
    "class Developer(Person):\n",
    "\n",
    "    def __init__(self, name, age, salary):\n",
    "        super().__init__(name, age)\n",
    "        self.salary = salary\n",
    "\n",
    "    def __add__(self, other):\n",
    "        self.salary += other\n",
    "\n",
    "    def __sub__(self, other):\n",
    "        self.salary -= other\n",
    "    \n",
    "    def __str__(self):\n",
    "        return f\"{self.name} is a Developer with a salary of {self.salary}.\"\n",
    "    \n",
    "    def __repr__(self):\n",
    "        return f\"Developer(\\\"{self.name}\\\", {self.age}, {self.salary})\"\n",
    "    \n",
    "    def __eq__(self, other):\n",
    "        return self.name == other.name and self.age == other.age and self.salary == other.salary\n",
    "\n",
    "    '''\n",
    "    ne - not equal (!=)\n",
    "    lt - checks if something is less than (<)\n",
    "    gt - checks if something is greater than (>)\n",
    "    le - (<=)\n",
    "    ge - (>=)\n",
    "    '''\n",
    "\n",
    "\n",
    "sami = Developer(\"Sami\", 5, 50000)\n",
    "jake = Developer(\"Jake\", 32, 50000)\n",
    "\n",
    "\n",
    "class Pokemon():\n",
    "    super_effective_mod = 1.5\n",
    "    num_of_pokemon = 0\n",
    "\n",
    "    def __init__(self, name, type, hp, attack):\n",
    "        self.name = name\n",
    "        self.type = type\n",
    "        self.hp = hp\n",
    "        self.attack = attack\n",
    "        Pokemon.num_of_pokemon += 1\n",
    "\n",
    "    @classmethod\n",
    "    def pokemon_from_string(cls, string):\n",
    "        name, type, hp, attack = string.split(',')\n",
    "        return cls(name, type, hp, attack)\n",
    "\n",
    "bulb = Pokemon(\"Bulbasaur\", \"Grass\", 45, 49)\n",
    "charm = Pokemon(\"Charmander\", \"Fire\", 45, 49)\n",
    "\n"
   ]
  }
 ],
 "metadata": {
  "kernelspec": {
   "display_name": "Python 3",
   "language": "python",
   "name": "python3"
  },
  "language_info": {
   "codemirror_mode": {
    "name": "ipython",
    "version": 3
   },
   "file_extension": ".py",
   "mimetype": "text/x-python",
   "name": "python",
   "nbconvert_exporter": "python",
   "pygments_lexer": "ipython3",
   "version": "3.11.4"
  }
 },
 "nbformat": 4,
 "nbformat_minor": 2
}
