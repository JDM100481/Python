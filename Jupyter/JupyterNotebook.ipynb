{
 "cells": [
  {
   "cell_type": "code",
   "execution_count": 5,
   "metadata": {},
   "outputs": [],
   "source": [
    "# pip install bs4\n",
    "import bs4\n",
    "# pip install selenium\n",
    "import selenium # selenium.webdriver, from selenium import webdriver\n",
    "from selenium.webdriver.common.by import By\n",
    "import time"
   ]
  },
  {
   "cell_type": "code",
   "execution_count": 6,
   "metadata": {},
   "outputs": [],
   "source": [
    "options = selenium.webdriver.ChromeOptions()\n",
    "options.add_argument('--headless')\n",
    "driver = selenium.webdriver.Chrome(options=options)\n",
    "\n",
    "driver.get('https://liquipedia.net/leagueoflegends/World_Championship/2023')\n",
    "\n",
    "time.sleep(3)\n",
    "\n",
    "page_source = driver.find_element(By.TAG_NAME, 'body').get_attribute('outerHTML')\n",
    "\n",
    "driver.quit()"
   ]
  },
  {
   "cell_type": "code",
   "execution_count": 7,
   "metadata": {},
   "outputs": [],
   "source": [
    "page = bs4.BeautifulSoup(page_source)"
   ]
  },
  {
   "cell_type": "code",
   "execution_count": 10,
   "metadata": {},
   "outputs": [
    {
     "name": "stdout",
     "output_type": "stream",
     "text": [
      "[<span class=\"team-template-text\"><a href=\"/leagueoflegends/NRG\" title=\"NRG\">NRG</a></span>, <span class=\"team-template-text\"><a href=\"/leagueoflegends/G2_Esports\" title=\"G2 Esports\">G2</a></span>, <span class=\"team-template-text\"><a href=\"/leagueoflegends/T1\" title=\"T1\">T1</a></span>, <span class=\"team-template-text\"><a href=\"/leagueoflegends/Bilibili_Gaming\" title=\"Bilibili Gaming\">BLG</a></span>, <span class=\"team-template-text\"><abbr title=\"To Be Determined\">TBD</abbr></span>, <span class=\"team-template-text\"><abbr title=\"To Be Determined\">TBD</abbr></span>, <span class=\"team-template-text\"><abbr title=\"To Be Determined\">TBD</abbr></span>, <span class=\"team-template-text\"><abbr title=\"To Be Determined\">TBD</abbr></span>, <span class=\"team-template-text\"><abbr title=\"To Be Determined\">TBD</abbr></span>, <span class=\"team-template-text\"><abbr title=\"To Be Determined\">TBD</abbr></span>, <span class=\"team-template-text\"><a href=\"/leagueoflegends/PSG_Talon\" title=\"PSG Talon\">PSG Talon</a></span>, <span class=\"team-template-text\"><a href=\"/leagueoflegends/GAM_Esports\" title=\"GAM Esports\">GAM Esports</a></span>, <span class=\"team-template-text\"><a href=\"/leagueoflegends/LOUD\" title=\"LOUD\">LOUD</a></span>, <span class=\"team-template-text\"><a href=\"/leagueoflegends/Rainbow7\" title=\"Rainbow7\">Rainbow7</a></span>, <span class=\"team-template-text\"><a href=\"/leagueoflegends/Team_Whales\" title=\"Team Whales\">Team Whales</a></span>, <span class=\"team-template-text\"><a href=\"/leagueoflegends/Team_BDS\" title=\"Team BDS\">Team BDS</a></span>, <span class=\"team-template-text\"><a href=\"/leagueoflegends/CTBC_Flying_Oyster\" title=\"CTBC Flying Oyster\">CTBC Flying Oyster</a></span>, <span class=\"team-template-text\"><a href=\"/leagueoflegends/DetonatioN_FocusMe\" title=\"DetonatioN FocusMe\">DetonatioN FocusMe</a></span>, <span class=\"team-template-text\"><a href=\"/leagueoflegends/Gen.G_Esports\" title=\"Gen.G Esports\">Gen.G Esports</a></span>, <span class=\"team-template-text\"><a href=\"/leagueoflegends/JD_Gaming\" title=\"JD Gaming\">JD Gaming</a></span>, <span class=\"team-template-text\"><a href=\"/leagueoflegends/LNG_Esports\" title=\"LNG Esports\">LNG Esports</a></span>, <span class=\"team-template-text\"><a href=\"/leagueoflegends/Bilibili_Gaming\" title=\"Bilibili Gaming\">Bilibili Gaming</a></span>, <span class=\"team-template-text\"><a href=\"/leagueoflegends/G2_Esports\" title=\"G2 Esports\">G2 Esports</a></span>, <span class=\"team-template-text\"><a href=\"/leagueoflegends/NRG\" title=\"NRG\">NRG</a></span>, <span class=\"team-template-text\"><a href=\"/leagueoflegends/T1\" title=\"T1\">T1</a></span>, <span class=\"team-template-text\"><a href=\"/leagueoflegends/Dplus\" title=\"Dplus\">Dplus</a></span>, <span class=\"team-template-text\"><a href=\"/leagueoflegends/Fnatic\" title=\"Fnatic\">Fnatic</a></span>, <span class=\"team-template-text\"><a href=\"/leagueoflegends/KT_Rolster\" title=\"KT Rolster\">KT Rolster</a></span>, <span class=\"team-template-text\"><a href=\"/leagueoflegends/Weibo_Gaming\" title=\"Weibo Gaming\">Weibo Gaming</a></span>, <span class=\"team-template-text\"><a href=\"/leagueoflegends/Cloud9\" title=\"Cloud9\">Cloud9</a></span>, <span class=\"team-template-text\"><a href=\"/leagueoflegends/GAM_Esports\" title=\"GAM Esports\">GAM Esports</a></span>, <span class=\"team-template-text\"><a href=\"/leagueoflegends/MAD_Lions\" title=\"MAD Lions\">MAD Lions</a></span>, <span class=\"team-template-text\"><a href=\"/leagueoflegends/Team_BDS\" title=\"Team BDS\">Team BDS</a></span>, <span class=\"team-template-text\"><a href=\"/leagueoflegends/Team_Liquid\" title=\"Team Liquid\">Team Liquid</a></span>]\n"
     ]
    }
   ],
   "source": [
    "spans = page.find_all('span', class_='team-template-text')\n",
    "print(spans)\n",
    "teams = set()\n",
    "for span in spans:\n",
    "\tanchor = span.find('a')\n",
    "\tif anchor is not None:\n",
    "\t\ttitle = anchor['title']\n",
    "\t\tteams.add(title)"
   ]
  },
  {
   "cell_type": "code",
   "execution_count": 11,
   "metadata": {},
   "outputs": [
    {
     "name": "stdout",
     "output_type": "stream",
     "text": [
      "{'/leagueoflegends/LNG_Esports', '/leagueoflegends/T1', '/leagueoflegends/Team_Liquid', '/leagueoflegends/Weibo_Gaming', '/leagueoflegends/Cloud9', '/leagueoflegends/PSG_Talon', '/leagueoflegends/NRG', '/leagueoflegends/Fnatic', '/leagueoflegends/MAD_Lions', '/leagueoflegends/G2_Esports', '/leagueoflegends/Team_BDS', '/leagueoflegends/JD_Gaming', '/leagueoflegends/DetonatioN_FocusMe', '/leagueoflegends/Bilibili_Gaming', '/leagueoflegends/KT_Rolster', '/leagueoflegends/Dplus', '/leagueoflegends/Team_Whales', '/leagueoflegends/CTBC_Flying_Oyster', '/leagueoflegends/LOUD', '/leagueoflegends/Gen.G_Esports', '/leagueoflegends/Rainbow7', '/leagueoflegends/GAM_Esports'}\n"
     ]
    }
   ],
   "source": [
    "print(teams)"
   ]
  }
 ],
 "metadata": {
  "kernelspec": {
   "display_name": "Python 3",
   "language": "python",
   "name": "python3"
  },
  "language_info": {
   "codemirror_mode": {
    "name": "ipython",
    "version": 3
   },
   "file_extension": ".py",
   "mimetype": "text/x-python",
   "name": "python",
   "nbconvert_exporter": "python",
   "pygments_lexer": "ipython3",
   "version": "3.10.11"
  }
 },
 "nbformat": 4,
 "nbformat_minor": 2
}
